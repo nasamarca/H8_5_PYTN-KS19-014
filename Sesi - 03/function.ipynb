{
 "cells": [
  {
   "cell_type": "code",
   "execution_count": 4,
   "metadata": {},
   "outputs": [],
   "source": [
    "def halo(b,v):\n",
    "    \"docstring\"\n",
    "    \"Function ini akan menyapa kamu yang sedang sedih\"\n",
    "    #''' buat text yang panjang'''\n",
    "    a = f'halo {b} yang {v}'\n",
    "    return a"
   ]
  },
  {
   "cell_type": "code",
   "execution_count": 5,
   "metadata": {},
   "outputs": [
    {
     "data": {
      "text/plain": [
       "'halo putra yang sedang bersedih'"
      ]
     },
     "execution_count": 5,
     "metadata": {},
     "output_type": "execute_result"
    }
   ],
   "source": [
    "halo('putra', 'sedang bersedih')"
   ]
  },
  {
   "cell_type": "code",
   "execution_count": 6,
   "metadata": {},
   "outputs": [
    {
     "name": "stdout",
     "output_type": "stream",
     "text": [
      "halo halo\n",
      "halo halohalo halohalo halo\n"
     ]
    }
   ],
   "source": [
    "def printme(str):\n",
    "    print(str) #mengeluarkan apapun yang kita masukkan\n",
    "    print(str * 3)\n",
    "    return\n",
    "\n",
    "printme('halo halo')"
   ]
  },
  {
   "cell_type": "code",
   "execution_count": 9,
   "metadata": {},
   "outputs": [
    {
     "name": "stdout",
     "output_type": "stream",
     "text": [
      "halo\n",
      "9\n"
     ]
    }
   ],
   "source": [
    "def printme(angka, str):\n",
    "    print(str) #mengeluarkan apapun yang kita masukkan\n",
    "    print(angka* 3)\n",
    "    return\n",
    "\n",
    "printme(str = 'halo', angka = 3)"
   ]
  }
 ],
 "metadata": {
  "kernelspec": {
   "display_name": "Python 3",
   "language": "python",
   "name": "python3"
  },
  "language_info": {
   "codemirror_mode": {
    "name": "ipython",
    "version": 3
   },
   "file_extension": ".py",
   "mimetype": "text/x-python",
   "name": "python",
   "nbconvert_exporter": "python",
   "pygments_lexer": "ipython3",
   "version": "3.10.4"
  },
  "orig_nbformat": 4
 },
 "nbformat": 4,
 "nbformat_minor": 2
}
