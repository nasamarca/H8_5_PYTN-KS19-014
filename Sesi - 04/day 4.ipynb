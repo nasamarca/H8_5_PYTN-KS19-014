{
 "cells": [
  {
   "cell_type": "code",
   "execution_count": 35,
   "id": "7f7d2464-fe15-4188-b640-cfb52da1baf7",
   "metadata": {},
   "outputs": [],
   "source": [
    "import numpy as np"
   ]
  },
  {
   "cell_type": "code",
   "execution_count": 36,
   "id": "59be8546-28c0-438a-b04b-43d5a7431b13",
   "metadata": {},
   "outputs": [
    {
     "data": {
      "text/plain": [
       "array([1, 2, 3])"
      ]
     },
     "execution_count": 36,
     "metadata": {},
     "output_type": "execute_result"
    }
   ],
   "source": [
    "# making array\n",
    "a = np.array([1,2,3])\n",
    "a\n"
   ]
  },
  {
   "cell_type": "code",
   "execution_count": 37,
   "id": "a6855153-cfc4-4da1-bd44-3322739ba3ee",
   "metadata": {},
   "outputs": [
    {
     "data": {
      "text/plain": [
       "array([5, 6, 7, 8, 9])"
      ]
     },
     "execution_count": 37,
     "metadata": {},
     "output_type": "execute_result"
    }
   ],
   "source": [
    "# making array of zeros\n",
    "np.zeros(6)\n",
    "\n",
    "# making array of ones\n",
    "np.ones(6)\n",
    "\n",
    "# making random array\n",
    "np.empty(3, order='F')\n",
    "\n",
    "# making array with range\n",
    "cth = np.arange(5,10)\n",
    "cth"
   ]
  },
  {
   "cell_type": "code",
   "execution_count": 38,
   "id": "ea20d931-6621-4c3c-9028-20367dc94a72",
   "metadata": {},
   "outputs": [
    {
     "data": {
      "text/plain": [
       "array([5, 6, 7, 8, 9])"
      ]
     },
     "execution_count": 38,
     "metadata": {},
     "output_type": "execute_result"
    }
   ],
   "source": [
    "# appending 2 or more array\n",
    "np.append(cth, [1,2])\n",
    "\n",
    "# deleting element of array by index\n",
    "np.delete(cth, 0)\n",
    "\n",
    "# cth =np.append(cth, [1,2,10])\n",
    "np.sort(cth)"
   ]
  },
  {
   "cell_type": "code",
   "execution_count": 39,
   "id": "363d4c35-972a-48a7-ab1c-6b6cd49f8333",
   "metadata": {},
   "outputs": [
    {
     "name": "stdout",
     "output_type": "stream",
     "text": [
      "[[[0 1 2 3]\n",
      "  [4 5 6 7]]\n",
      "\n",
      " [[0 1 2 3]\n",
      "  [4 5 6 7]]\n",
      "\n",
      " [[0 1 2 3]\n",
      "  [4 5 6 7]]]\n"
     ]
    }
   ],
   "source": [
    "# multi dimension array\n",
    "array_example = np.array([\n",
    "   [   [0,1,2,3],\n",
    "       [4,5,6,7]],\n",
    "   [   [0,1,2,3],\n",
    "       [4,5,6,7]],\n",
    "   [   [0,1,2,3],\n",
    "       [4,5,6,7]],\n",
    "])\n",
    "print(array_example)"
   ]
  },
  {
   "cell_type": "code",
   "execution_count": 40,
   "id": "5eebe3a2-4aa5-4bd2-ac09-3bce59dcb30b",
   "metadata": {},
   "outputs": [
    {
     "name": "stdout",
     "output_type": "stream",
     "text": [
      "3\n",
      "24\n",
      "(3, 2, 4)\n"
     ]
    }
   ],
   "source": [
    "# show array dimension\n",
    "print(array_example.ndim)\n",
    "\n",
    "# show array total element\n",
    "print(array_example.size)\n",
    "\n",
    "# show array total element\n",
    "print(array_example.shape)\n"
   ]
  },
  {
   "cell_type": "code",
   "execution_count": 41,
   "id": "36cd81a7-69f4-4979-b097-dab22a4c6496",
   "metadata": {},
   "outputs": [
    {
     "name": "stdout",
     "output_type": "stream",
     "text": [
      "(2, 4)\n",
      "2\n",
      "8\n"
     ]
    }
   ],
   "source": [
    "array_example = np.array(\n",
    "   [   [0,1,2,3],\n",
    "       [4,5,6,7]],\n",
    ")\n",
    "print(array_example.shape)\n",
    "print(array_example.ndim)\n",
    "print(array_example.size)"
   ]
  },
  {
   "cell_type": "code",
   "execution_count": 42,
   "id": "8afafd19-06c7-477c-b16c-c6efae37332b",
   "metadata": {},
   "outputs": [
    {
     "data": {
      "text/plain": [
       "array([[ 0],\n",
       "       [ 1],\n",
       "       [ 2],\n",
       "       [ 3],\n",
       "       [ 4],\n",
       "       [ 5],\n",
       "       [ 6],\n",
       "       [ 7],\n",
       "       [ 8],\n",
       "       [ 9],\n",
       "       [10],\n",
       "       [11],\n",
       "       [12],\n",
       "       [13],\n",
       "       [14],\n",
       "       [15]])"
      ]
     },
     "execution_count": 42,
     "metadata": {},
     "output_type": "execute_result"
    }
   ],
   "source": [
    "a = np.arange(16)\n",
    "# reshaping an array\n",
    "b = a.reshape(16,1)\n",
    "b"
   ]
  },
  {
   "cell_type": "code",
   "execution_count": 43,
   "id": "892b1cc4-45b6-432d-9fc0-f983d915aee2",
   "metadata": {},
   "outputs": [
    {
     "data": {
      "text/plain": [
       "array([ 0,  1,  2,  3,  4,  5,  6,  7,  8,  9, 10, 11, 12, 13, 14, 15])"
      ]
     },
     "metadata": {},
     "output_type": "display_data"
    },
    {
     "data": {
      "text/plain": [
       "array([[ 0,  1,  2,  3,  4,  5,  6,  7,  8,  9, 10, 11, 12, 13, 14, 15]])"
      ]
     },
     "metadata": {},
     "output_type": "display_data"
    },
    {
     "data": {
      "text/plain": [
       "array([[[ 0,  1,  2,  3,  4,  5,  6,  7,  8,  9, 10, 11, 12, 13, 14, 15]]])"
      ]
     },
     "metadata": {},
     "output_type": "display_data"
    },
    {
     "data": {
      "text/plain": [
       "array([[ 0],\n",
       "       [ 1],\n",
       "       [ 2],\n",
       "       [ 3],\n",
       "       [ 4],\n",
       "       [ 5],\n",
       "       [ 6],\n",
       "       [ 7],\n",
       "       [ 8],\n",
       "       [ 9],\n",
       "       [10],\n",
       "       [11],\n",
       "       [12],\n",
       "       [13],\n",
       "       [14],\n",
       "       [15]])"
      ]
     },
     "execution_count": 43,
     "metadata": {},
     "output_type": "execute_result"
    }
   ],
   "source": [
    "display(a)\n",
    "\n",
    "# add a dimension to an existing array\n",
    "a2 = a[np.newaxis]\n",
    "display(a2)\n",
    "a3 = a2[np.newaxis]\n",
    "display(a3)\n",
    "\n",
    "row_vector = a[:,np.newaxis]\n",
    "row_vector"
   ]
  },
  {
   "cell_type": "code",
   "execution_count": 44,
   "id": "797d0322-a2d9-43d4-a1bf-240de1aef6b9",
   "metadata": {},
   "outputs": [
    {
     "data": {
      "text/plain": [
       "array([0, 1, 2, 3, 4])"
      ]
     },
     "metadata": {},
     "output_type": "display_data"
    },
    {
     "data": {
      "text/plain": [
       "(5,)"
      ]
     },
     "metadata": {},
     "output_type": "display_data"
    },
    {
     "data": {
      "text/plain": [
       "array([[0, 1, 2, 3, 4]])"
      ]
     },
     "metadata": {},
     "output_type": "display_data"
    },
    {
     "data": {
      "text/plain": [
       "(1, 5)"
      ]
     },
     "metadata": {},
     "output_type": "display_data"
    }
   ],
   "source": [
    "a = np.arange(5)\n",
    "display(a)\n",
    "display(a.shape)\n",
    "\n",
    "# expanding dimension\n",
    "b = np.expand_dims(a, axis=0)\n",
    "display(b)\n",
    "display(b.shape)"
   ]
  },
  {
   "cell_type": "code",
   "execution_count": 45,
   "id": "3cc1a4d3-5bcc-41c0-8a6d-3bbd026167d4",
   "metadata": {},
   "outputs": [
    {
     "data": {
      "text/plain": [
       "array([0, 1, 2, 3, 4])"
      ]
     },
     "execution_count": 45,
     "metadata": {},
     "output_type": "execute_result"
    }
   ],
   "source": [
    "a"
   ]
  },
  {
   "cell_type": "code",
   "execution_count": 46,
   "id": "5af6020f-cb58-4814-9fe4-a9a314e11afd",
   "metadata": {},
   "outputs": [
    {
     "name": "stdout",
     "output_type": "stream",
     "text": [
      "2\n",
      "[0 1 2]\n",
      "[4 3 2 1 0]\n",
      "[3 4]\n"
     ]
    }
   ],
   "source": [
    "# slicing array by index\n",
    "print(a[2])\n",
    "print(a[:3])\n",
    "print(a[::-1])\n",
    "print(a[-2:])"
   ]
  },
  {
   "cell_type": "code",
   "execution_count": 47,
   "id": "cac0c4d1-efab-40dc-a182-627e9c28d8ac",
   "metadata": {},
   "outputs": [
    {
     "data": {
      "text/plain": [
       "array([[0, 1, 2, 3],\n",
       "       [4, 5, 6, 7]])"
      ]
     },
     "execution_count": 47,
     "metadata": {},
     "output_type": "execute_result"
    }
   ],
   "source": [
    "array_example"
   ]
  },
  {
   "cell_type": "code",
   "execution_count": 48,
   "id": "6991de50-bba2-432f-a147-e2209715df17",
   "metadata": {},
   "outputs": [
    {
     "data": {
      "text/plain": [
       "array([5, 6, 7])"
      ]
     },
     "execution_count": 48,
     "metadata": {},
     "output_type": "execute_result"
    }
   ],
   "source": [
    "# slicing array with condition\n",
    "array_example[array_example >= 5]"
   ]
  },
  {
   "cell_type": "code",
   "execution_count": 49,
   "id": "53ca1d98-a92b-4ce9-974b-0b00b8ff2706",
   "metadata": {},
   "outputs": [
    {
     "data": {
      "text/plain": [
       "array([5, 6, 7])"
      ]
     },
     "execution_count": 49,
     "metadata": {},
     "output_type": "execute_result"
    }
   ],
   "source": [
    "five_up = (array_example >= 5)\n",
    "array_example[five_up]"
   ]
  },
  {
   "cell_type": "code",
   "execution_count": 50,
   "id": "7e20e6a5-5e67-4743-acd4-97c00ce924d2",
   "metadata": {},
   "outputs": [
    {
     "data": {
      "text/plain": [
       "array([0, 2, 4, 6])"
      ]
     },
     "execution_count": 50,
     "metadata": {},
     "output_type": "execute_result"
    }
   ],
   "source": [
    "array_example[array_example%2==0]"
   ]
  },
  {
   "cell_type": "code",
   "execution_count": 51,
   "id": "a49033d6-ea35-4c39-9622-6159b338cf83",
   "metadata": {},
   "outputs": [
    {
     "data": {
      "text/plain": [
       "array([0, 2, 4, 5, 6, 7])"
      ]
     },
     "execution_count": 51,
     "metadata": {},
     "output_type": "execute_result"
    }
   ],
   "source": [
    "# slicing using and\n",
    "array_example[(array_example%2==0) & (array_example > 3)]\n",
    "# slicing using or\n",
    "array_example[(array_example%2==0) | (array_example > 3)]"
   ]
  },
  {
   "cell_type": "code",
   "execution_count": null,
   "id": "92bf91d9-4455-4098-850e-d0abd763ccd7",
   "metadata": {},
   "outputs": [],
   "source": []
  },
  {
   "cell_type": "code",
   "execution_count": null,
   "id": "0ccd5912-72c9-4473-bdaf-a8e2121e7565",
   "metadata": {},
   "outputs": [],
   "source": []
  },
  {
   "cell_type": "code",
   "execution_count": 52,
   "id": "2539e463-67ae-49d7-8632-864a123f1476",
   "metadata": {},
   "outputs": [
    {
     "data": {
      "text/plain": [
       "array([4, 5, 6, 7, 8])"
      ]
     },
     "execution_count": 52,
     "metadata": {},
     "output_type": "execute_result"
    }
   ],
   "source": [
    "a = np.arange(1,11)\n",
    "b = a[3:8]\n",
    "b"
   ]
  },
  {
   "cell_type": "code",
   "execution_count": 53,
   "id": "70f17a73-4448-4788-96e0-44dd04591463",
   "metadata": {},
   "outputs": [],
   "source": [
    "a1 = np.array(\n",
    "   [   [0,1,],\n",
    "       [4,5,]])\n",
    "a2 = np.array(\n",
    "   [   [2,3,],\n",
    "       [6,7,]])"
   ]
  },
  {
   "cell_type": "code",
   "execution_count": 54,
   "id": "2494b59c-b6be-4ce4-a0f1-77ba33a29c16",
   "metadata": {},
   "outputs": [
    {
     "data": {
      "text/plain": [
       "array([[0, 1],\n",
       "       [4, 5],\n",
       "       [2, 3],\n",
       "       [6, 7]])"
      ]
     },
     "execution_count": 54,
     "metadata": {},
     "output_type": "execute_result"
    }
   ],
   "source": [
    "# stacking vertically\n",
    "np.vstack((a1, a2))"
   ]
  },
  {
   "cell_type": "code",
   "execution_count": 55,
   "id": "79fe6e88-4add-40c3-a79a-3fa3caf2f4cb",
   "metadata": {},
   "outputs": [
    {
     "data": {
      "text/plain": [
       "array([[0, 1, 2, 3],\n",
       "       [4, 5, 6, 7]])"
      ]
     },
     "execution_count": 55,
     "metadata": {},
     "output_type": "execute_result"
    }
   ],
   "source": [
    "# stacking horizontally\n",
    "np.hstack((a1, a2))"
   ]
  },
  {
   "cell_type": "code",
   "execution_count": 56,
   "id": "c8fd70c8-407c-4625-bc7d-fecdea963c56",
   "metadata": {},
   "outputs": [
    {
     "data": {
      "text/plain": [
       "array([ 1,  2,  3,  4,  5,  6,  7,  8,  9, 10])"
      ]
     },
     "metadata": {},
     "output_type": "display_data"
    },
    {
     "data": {
      "text/plain": [
       "array([[ 1,  2,  3,  4,  5,  6,  7,  8,  9, 10],\n",
       "       [ 1,  2,  3,  4,  5,  6,  7,  8,  9, 10]])"
      ]
     },
     "execution_count": 56,
     "metadata": {},
     "output_type": "execute_result"
    }
   ],
   "source": [
    "display(a)\n",
    "a2 = a[np.newaxis]\n",
    "a4 = np.vstack((a2,a2))\n",
    "a4"
   ]
  },
  {
   "cell_type": "code",
   "execution_count": 57,
   "id": "7807b5b1-83a2-484a-8902-81a4e3edb8cb",
   "metadata": {},
   "outputs": [
    {
     "data": {
      "text/plain": [
       "[array([[1, 2],\n",
       "        [1, 2]]),\n",
       " array([[3, 4],\n",
       "        [3, 4]]),\n",
       " array([[5, 6],\n",
       "        [5, 6]]),\n",
       " array([[7, 8],\n",
       "        [7, 8]]),\n",
       " array([[ 9, 10],\n",
       "        [ 9, 10]])]"
      ]
     },
     "execution_count": 57,
     "metadata": {},
     "output_type": "execute_result"
    }
   ],
   "source": [
    "# splitting array horizontally\n",
    "np.hsplit(a4, 5)"
   ]
  },
  {
   "cell_type": "code",
   "execution_count": null,
   "id": "04a95ab8-0097-4d22-b098-057dafb5de94",
   "metadata": {},
   "outputs": [],
   "source": []
  },
  {
   "cell_type": "code",
   "execution_count": 58,
   "id": "83e1ec02-d475-4e9c-8797-a4fb85bce25b",
   "metadata": {},
   "outputs": [
    {
     "data": {
      "text/plain": [
       "array([[ 1,  2,  3,  4],\n",
       "       [ 5,  6,  7,  8],\n",
       "       [ 9, 10, 11, 12]])"
      ]
     },
     "execution_count": 58,
     "metadata": {},
     "output_type": "execute_result"
    }
   ],
   "source": [
    "a = np.array([[1,2,3,4],[5,6,7,8],[9,10,11,12]])\n",
    "a"
   ]
  },
  {
   "cell_type": "code",
   "execution_count": 59,
   "id": "f69567d7-d207-4fb4-9383-d0803ae25611",
   "metadata": {},
   "outputs": [
    {
     "data": {
      "text/plain": [
       "array([[ 1,  2,  3,  4],\n",
       "       [ 5,  6,  7,  8],\n",
       "       [ 9, 10, 11, 12]])"
      ]
     },
     "execution_count": 59,
     "metadata": {},
     "output_type": "execute_result"
    }
   ],
   "source": [
    "b = a.view()\n",
    "b"
   ]
  },
  {
   "cell_type": "code",
   "execution_count": 60,
   "id": "4a229fa2-ebb9-44b6-b71d-b42eb902c7e8",
   "metadata": {},
   "outputs": [
    {
     "data": {
      "text/plain": [
       "array([[ 1,  2,  3,  4],\n",
       "       [ 5,  6,  7,  8],\n",
       "       [ 9, 10, 11, 12]])"
      ]
     },
     "execution_count": 60,
     "metadata": {},
     "output_type": "execute_result"
    }
   ],
   "source": [
    "c = a.copy()\n",
    "c"
   ]
  },
  {
   "cell_type": "code",
   "execution_count": null,
   "id": "1e8ef433-ec29-413c-8116-b2e2f2697727",
   "metadata": {},
   "outputs": [],
   "source": []
  },
  {
   "cell_type": "code",
   "execution_count": 61,
   "id": "7d3225f9-3c17-45cc-a112-28e3030352d0",
   "metadata": {},
   "outputs": [
    {
     "name": "stdout",
     "output_type": "stream",
     "text": [
      "[0 1 2]\n",
      "[4 5 6]\n",
      "[4 6 8]\n",
      "[-4 -4 -4]\n",
      "[ 0  5 12]\n",
      "[0.         0.2        0.33333333]\n"
     ]
    }
   ],
   "source": [
    "a = np.arange(3)\n",
    "b = np.arange(4,7)\n",
    "print(a)\n",
    "print(b)\n",
    "\n",
    "# basic array operations \n",
    "print(a + b)\n",
    "print(a - b)\n",
    "print(a * b)\n",
    "print(a / b)"
   ]
  },
  {
   "cell_type": "code",
   "execution_count": 62,
   "id": "b1ea65ae-bd23-4431-82df-821836d703f8",
   "metadata": {},
   "outputs": [
    {
     "data": {
      "text/plain": [
       "array([[[ 0,  1,  2,  3,  4,  5,  6,  7,  8,  9, 10, 11, 12, 13, 14, 15]]])"
      ]
     },
     "execution_count": 62,
     "metadata": {},
     "output_type": "execute_result"
    }
   ],
   "source": [
    "a3"
   ]
  },
  {
   "cell_type": "code",
   "execution_count": 63,
   "id": "30d1a9fe-a168-4e7d-96de-b1a243413d7f",
   "metadata": {},
   "outputs": [
    {
     "data": {
      "text/plain": [
       "120"
      ]
     },
     "execution_count": 63,
     "metadata": {},
     "output_type": "execute_result"
    }
   ],
   "source": [
    "a3.sum()"
   ]
  },
  {
   "cell_type": "code",
   "execution_count": 64,
   "id": "13b43a13-3bb8-4abe-8628-6b348d2422b4",
   "metadata": {},
   "outputs": [
    {
     "data": {
      "text/plain": [
       "array([[ 1,  2,  3,  4],\n",
       "       [ 5,  6,  7,  8],\n",
       "       [ 9, 10, 11, 12]])"
      ]
     },
     "execution_count": 64,
     "metadata": {},
     "output_type": "execute_result"
    }
   ],
   "source": [
    "c"
   ]
  },
  {
   "cell_type": "code",
   "execution_count": 65,
   "id": "09297946-4c8d-4176-8656-02ba83309a58",
   "metadata": {},
   "outputs": [
    {
     "name": "stdout",
     "output_type": "stream",
     "text": [
      "[15 18 21 24]\n",
      "[10 26 42]\n"
     ]
    }
   ],
   "source": [
    "# sum with axis\n",
    "print(c.sum(axis = 0))\n",
    "print(c.sum(axis = 1))"
   ]
  },
  {
   "cell_type": "code",
   "execution_count": null,
   "id": "739c92ad-7c45-4912-90f3-2e437f90d0b6",
   "metadata": {},
   "outputs": [],
   "source": []
  },
  {
   "cell_type": "code",
   "execution_count": 66,
   "id": "ebfaeb92-6674-4321-a138-d4ae9c0569ca",
   "metadata": {},
   "outputs": [
    {
     "name": "stdout",
     "output_type": "stream",
     "text": [
      "[0 1 2]\n",
      "[0.  1.6 3.2]\n"
     ]
    }
   ],
   "source": [
    "print(a)\n",
    "print(a * 1.6)"
   ]
  },
  {
   "cell_type": "code",
   "execution_count": 67,
   "id": "2bac9583-94bf-4cf1-91d8-1e6ed3c5e913",
   "metadata": {},
   "outputs": [
    {
     "ename": "UFuncTypeError",
     "evalue": "ufunc 'multiply' did not contain a loop with signature matching types (dtype('<U11'), dtype('int32')) -> None",
     "output_type": "error",
     "traceback": [
      "\u001b[1;31m---------------------------------------------------------------------------\u001b[0m",
      "\u001b[1;31mUFuncTypeError\u001b[0m                            Traceback (most recent call last)",
      "\u001b[1;32md:\\01-Universitas Diponegoro\\01-Informatics\\Semester 7\\Hacktiv8\\04-Code\\Sesi - 04\\day 4.ipynb Cell 38\u001b[0m in \u001b[0;36m<cell line: 3>\u001b[1;34m()\u001b[0m\n\u001b[0;32m      <a href='vscode-notebook-cell:/d%3A/01-Universitas%20Diponegoro/01-Informatics/Semester%207/Hacktiv8/04-Code/Sesi%20-%2004/day%204.ipynb#X52sZmlsZQ%3D%3D?line=0'>1</a>\u001b[0m \u001b[39m# error\u001b[39;00m\n\u001b[0;32m      <a href='vscode-notebook-cell:/d%3A/01-Universitas%20Diponegoro/01-Informatics/Semester%207/Hacktiv8/04-Code/Sesi%20-%2004/day%204.ipynb#X52sZmlsZQ%3D%3D?line=1'>2</a>\u001b[0m z \u001b[39m=\u001b[39m np\u001b[39m.\u001b[39marray([\u001b[39m1\u001b[39m,\u001b[39m2\u001b[39m,\u001b[39m'\u001b[39m\u001b[39mz\u001b[39m\u001b[39m'\u001b[39m])\n\u001b[1;32m----> <a href='vscode-notebook-cell:/d%3A/01-Universitas%20Diponegoro/01-Informatics/Semester%207/Hacktiv8/04-Code/Sesi%20-%2004/day%204.ipynb#X52sZmlsZQ%3D%3D?line=2'>3</a>\u001b[0m z \u001b[39m*\u001b[39;49m\u001b[39m15\u001b[39;49m\n",
      "\u001b[1;31mUFuncTypeError\u001b[0m: ufunc 'multiply' did not contain a loop with signature matching types (dtype('<U11'), dtype('int32')) -> None"
     ]
    }
   ],
   "source": [
    "# error\n",
    "z = np.array([1,2,'z'])\n",
    "z *15"
   ]
  },
  {
   "cell_type": "code",
   "execution_count": null,
   "id": "17ec1ce5-b2ff-4fa9-ab2d-1ca559d44ac2",
   "metadata": {},
   "outputs": [
    {
     "data": {
      "text/plain": [
       "array([[ 1,  2,  3,  4],\n",
       "       [ 5,  6,  7,  8],\n",
       "       [ 9, 10, 11, 12]])"
      ]
     },
     "execution_count": 179,
     "metadata": {},
     "output_type": "execute_result"
    }
   ],
   "source": [
    "c"
   ]
  },
  {
   "cell_type": "code",
   "execution_count": null,
   "id": "ce68720b-f3c4-4bd5-8840-2a59faf7548c",
   "metadata": {},
   "outputs": [
    {
     "name": "stdout",
     "output_type": "stream",
     "text": [
      "1\n",
      "12\n",
      "78\n",
      "3.452052529534663\n",
      "[1 5 9]\n",
      "[ 9 10 11 12]\n"
     ]
    }
   ],
   "source": [
    "print(c.min())\n",
    "print(c.max())\n",
    "print(c.sum())\n",
    "print(c.std())\n",
    "print(c.min(axis = 1))\n",
    "print(c.max(axis = 0))"
   ]
  },
  {
   "cell_type": "code",
   "execution_count": null,
   "id": "84b22f94-fae5-4399-af37-645c7957fe46",
   "metadata": {},
   "outputs": [
    {
     "name": "stdout",
     "output_type": "stream",
     "text": [
      "[[0. 0.]\n",
      " [0. 0.]\n",
      " [0. 0.]\n",
      " [0. 0.]\n",
      " [0. 0.]\n",
      " [0. 0.]]\n",
      "[[1. 1.]\n",
      " [1. 1.]\n",
      " [1. 1.]\n",
      " [1. 1.]\n",
      " [1. 1.]\n",
      " [1. 1.]]\n",
      "[[0.84865013 0.32695988]\n",
      " [0.16628704 0.70520826]\n",
      " [0.82833471 0.00956504]\n",
      " [0.05370945 0.3161685 ]\n",
      " [0.25213061 0.17774763]\n",
      " [0.04888855 0.7467032 ]]\n"
     ]
    }
   ],
   "source": [
    "# making matrix \n",
    "z = np.zeros((6,2))\n",
    "o = np.ones((6,2))\n",
    "r = np.random.random((6,2))\n",
    "print(z)\n",
    "print(o)\n",
    "print(r)"
   ]
  },
  {
   "cell_type": "code",
   "execution_count": null,
   "id": "10ec529b-0486-4713-9f64-3ab45b7c83d2",
   "metadata": {},
   "outputs": [
    {
     "data": {
      "text/plain": [
       "array([[1.84865013, 1.32695988],\n",
       "       [1.16628704, 1.70520826],\n",
       "       [1.82833471, 1.00956504],\n",
       "       [1.05370945, 1.3161685 ],\n",
       "       [1.25213061, 1.17774763],\n",
       "       [1.04888855, 1.7467032 ]])"
      ]
     },
     "execution_count": 191,
     "metadata": {},
     "output_type": "execute_result"
    }
   ],
   "source": [
    "r + o"
   ]
  },
  {
   "cell_type": "code",
   "execution_count": null,
   "id": "733e7ad6-508a-49ba-b1b5-18e4d99a376a",
   "metadata": {},
   "outputs": [],
   "source": []
  },
  {
   "cell_type": "code",
   "execution_count": null,
   "id": "c4156878-4d3f-48a7-b46f-737981408dc0",
   "metadata": {},
   "outputs": [
    {
     "name": "stdout",
     "output_type": "stream",
     "text": [
      "[[0 1]\n",
      " [4 5]\n",
      " [7 8]]\n",
      "[[0 1 2]\n",
      " [4 5 6]]\n"
     ]
    }
   ],
   "source": [
    "a1 = np.array([[0,1],[4,5], [7,8]])\n",
    "print(a1)\n",
    "a2 = np.array([[0,1,2],[4,5,6]])\n",
    "print(a2)"
   ]
  },
  {
   "cell_type": "code",
   "execution_count": null,
   "id": "1acba18e-f075-4809-b542-d835be1b0795",
   "metadata": {},
   "outputs": [
    {
     "data": {
      "text/plain": [
       "array([[ 4,  5,  6],\n",
       "       [20, 29, 38],\n",
       "       [32, 47, 62]])"
      ]
     },
     "execution_count": 204,
     "metadata": {},
     "output_type": "execute_result"
    }
   ],
   "source": [
    "np.dot(a1,a2)"
   ]
  },
  {
   "cell_type": "code",
   "execution_count": null,
   "id": "183eb574-24db-4755-83c8-1860fc9408b4",
   "metadata": {},
   "outputs": [
    {
     "name": "stdout",
     "output_type": "stream",
     "text": [
      "[[1 2]\n",
      " [3 4]\n",
      " [5 6]]\n",
      "[1 2]\n",
      "[5 6]\n",
      "[[1 2]\n",
      " [3 4]]\n",
      "2\n",
      "2\n"
     ]
    }
   ],
   "source": [
    "# slicing matrix\n",
    "a1 = np.array([[1,2],[3,4], [5,6]])\n",
    "print(a1)\n",
    "print(a1[0])\n",
    "print(a1[2])\n",
    "print(a1[0:2])\n",
    "print(a1[0,1])\n",
    "print(a1[0][1])"
   ]
  },
  {
   "cell_type": "code",
   "execution_count": null,
   "id": "946d58cc-a910-498d-a477-9e8096b4a70c",
   "metadata": {},
   "outputs": [
    {
     "data": {
      "text/plain": [
       "array([[1, 2],\n",
       "       [3, 4],\n",
       "       [5, 6]])"
      ]
     },
     "metadata": {},
     "output_type": "display_data"
    },
    {
     "name": "stdout",
     "output_type": "stream",
     "text": [
      "(3, 2)\n",
      "[[1 3 5]\n",
      " [2 4 6]]\n",
      "(2, 3)\n"
     ]
    }
   ],
   "source": [
    "# transforming shape\n",
    "display(a1)\n",
    "print(a1.shape)\n",
    "print(a1.T)\n",
    "print(a1.T.shape)"
   ]
  },
  {
   "cell_type": "code",
   "execution_count": null,
   "id": "99a1a7d5-f484-42d1-a9b1-7f8e2c0a8723",
   "metadata": {},
   "outputs": [],
   "source": [
    "a = np.arange(6)"
   ]
  },
  {
   "cell_type": "code",
   "execution_count": null,
   "id": "235987e7-ea07-434c-947c-dbb083ed5d62",
   "metadata": {},
   "outputs": [
    {
     "data": {
      "text/plain": [
       "array([[0],\n",
       "       [1],\n",
       "       [2],\n",
       "       [3],\n",
       "       [4],\n",
       "       [5]])"
      ]
     },
     "execution_count": 231,
     "metadata": {},
     "output_type": "execute_result"
    }
   ],
   "source": [
    "a2 = a[np.newaxis]\n",
    "a2.T"
   ]
  },
  {
   "cell_type": "code",
   "execution_count": null,
   "id": "ab37b82f-6968-4187-905d-f42508a160b4",
   "metadata": {},
   "outputs": [
    {
     "data": {
      "text/plain": [
       "array([[0, 1, 2],\n",
       "       [3, 4, 5]])"
      ]
     },
     "execution_count": 241,
     "metadata": {},
     "output_type": "execute_result"
    }
   ],
   "source": [
    "a3 = a2.reshape(-1,3)\n",
    "a3"
   ]
  },
  {
   "cell_type": "code",
   "execution_count": null,
   "id": "e39b6221-54d0-46ec-bf42-7bf1fce1e659",
   "metadata": {},
   "outputs": [
    {
     "name": "stdout",
     "output_type": "stream",
     "text": [
      "[0 1 2 3 4 5]\n",
      "[0 2 3 4 5]\n",
      "[[0 1 2]\n",
      " [3 4 5]]\n"
     ]
    }
   ],
   "source": [
    "# flatten multidimension array into 1D array\n",
    "a4 = a3.flatten()\n",
    "print(a4)\n",
    "print(np.delete(a4, 1))\n",
    "print(a3)"
   ]
  },
  {
   "cell_type": "code",
   "execution_count": null,
   "id": "91c9e17e-9ee6-49af-bd26-c036da7a038a",
   "metadata": {},
   "outputs": [
    {
     "name": "stdout",
     "output_type": "stream",
     "text": [
      "[0 1 2 3 4 5]\n",
      "[0 2 3 4 5]\n",
      "[[0 1 2]\n",
      " [3 4 5]]\n"
     ]
    }
   ],
   "source": [
    "a4 = a3.ravel()\n",
    "print(a4)\n",
    "print(np.delete(a4, 1))\n",
    "print(a3)"
   ]
  }
 ],
 "metadata": {
  "kernelspec": {
   "display_name": "Python 3 (ipykernel)",
   "language": "python",
   "name": "python3"
  },
  "language_info": {
   "codemirror_mode": {
    "name": "ipython",
    "version": 3
   },
   "file_extension": ".py",
   "mimetype": "text/x-python",
   "name": "python",
   "nbconvert_exporter": "python",
   "pygments_lexer": "ipython3",
   "version": "3.9.12"
  }
 },
 "nbformat": 4,
 "nbformat_minor": 5
}
