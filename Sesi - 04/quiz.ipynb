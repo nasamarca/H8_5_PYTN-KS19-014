{
 "cells": [
  {
   "cell_type": "markdown",
   "metadata": {},
   "source": [
    "### Soal 1"
   ]
  },
  {
   "cell_type": "code",
   "execution_count": 13,
   "metadata": {},
   "outputs": [],
   "source": [
    "student = {\n",
    "    1: {'name':'Idaz','age':'27','sex':'Male'},\n",
    "    2: {'name':'Emma','age':'22','sex':'Female'},\n",
    "}"
   ]
  },
  {
   "cell_type": "code",
   "execution_count": 14,
   "metadata": {},
   "outputs": [
    {
     "data": {
      "text/plain": [
       "'27'"
      ]
     },
     "execution_count": 14,
     "metadata": {},
     "output_type": "execute_result"
    }
   ],
   "source": [
    "# Mencetak usia Idaz\n",
    "student[1][\"age\"]"
   ]
  },
  {
   "cell_type": "markdown",
   "metadata": {},
   "source": [
    "### Soal 2"
   ]
  },
  {
   "cell_type": "code",
   "execution_count": 15,
   "metadata": {},
   "outputs": [],
   "source": [
    "# Menulis if statement\n",
    "#if x > y:"
   ]
  },
  {
   "cell_type": "markdown",
   "metadata": {},
   "source": [
    "### Soal 3\n",
    "\n"
   ]
  },
  {
   "cell_type": "code",
   "execution_count": 16,
   "metadata": {},
   "outputs": [],
   "source": [
    "# Penulisan struktur data dictinaries yang benar\n",
    "d = { 'foo' : 1 , 'bar' : 2 , 'baz' : 3 }"
   ]
  },
  {
   "cell_type": "markdown",
   "metadata": {},
   "source": [
    "### Soal 11"
   ]
  },
  {
   "cell_type": "code",
   "execution_count": 17,
   "metadata": {},
   "outputs": [
    {
     "name": "stdout",
     "output_type": "stream",
     "text": [
      "I, d, a, z, "
     ]
    }
   ],
   "source": [
    "for l in \"Idaz\":\n",
    "    if l == 'a':\n",
    "        pass\n",
    "    print(l, end=\", \")"
   ]
  },
  {
   "cell_type": "code",
   "execution_count": 18,
   "metadata": {},
   "outputs": [
    {
     "ename": "TypeError",
     "evalue": "'tuple' object does not support item assignment",
     "output_type": "error",
     "traceback": [
      "\u001b[1;31m---------------------------------------------------------------------------\u001b[0m",
      "\u001b[1;31mTypeError\u001b[0m                                 Traceback (most recent call last)",
      "\u001b[1;32md:\\01-Universitas Diponegoro\\01-Informatics\\Semester 7\\Hacktiv8\\04-Code\\Sesi - 04\\quiz.ipynb Cell 10\u001b[0m in \u001b[0;36m<cell line: 2>\u001b[1;34m()\u001b[0m\n\u001b[0;32m      <a href='vscode-notebook-cell:/d%3A/01-Universitas%20Diponegoro/01-Informatics/Semester%207/Hacktiv8/04-Code/Sesi%20-%2004/quiz.ipynb#X16sZmlsZQ%3D%3D?line=0'>1</a>\u001b[0m aTuple \u001b[39m=\u001b[39m (\u001b[39m100\u001b[39m,\u001b[39m200\u001b[39m,\u001b[39m300\u001b[39m,\u001b[39m400\u001b[39m,\u001b[39m500\u001b[39m)\n\u001b[1;32m----> <a href='vscode-notebook-cell:/d%3A/01-Universitas%20Diponegoro/01-Informatics/Semester%207/Hacktiv8/04-Code/Sesi%20-%2004/quiz.ipynb#X16sZmlsZQ%3D%3D?line=1'>2</a>\u001b[0m aTuple[\u001b[39m1\u001b[39m] \u001b[39m=\u001b[39m \u001b[39m800\u001b[39m\n\u001b[0;32m      <a href='vscode-notebook-cell:/d%3A/01-Universitas%20Diponegoro/01-Informatics/Semester%207/Hacktiv8/04-Code/Sesi%20-%2004/quiz.ipynb#X16sZmlsZQ%3D%3D?line=2'>3</a>\u001b[0m \u001b[39mprint\u001b[39m(aTuple)\n",
      "\u001b[1;31mTypeError\u001b[0m: 'tuple' object does not support item assignment"
     ]
    }
   ],
   "source": [
    "aTuple = (100,200,300,400,500)\n",
    "aTuple[1] = 800\n",
    "print(aTuple)\n",
    "# Type Error karena tuple immutable atau tdk dapat diubah"
   ]
  },
  {
   "cell_type": "code",
   "execution_count": 19,
   "metadata": {},
   "outputs": [
    {
     "name": "stdout",
     "output_type": "stream",
     "text": [
      "100\n"
     ]
    }
   ],
   "source": [
    "x = 0\n",
    "while (x<100):\n",
    "    x+=2\n",
    "print(x)"
   ]
  },
  {
   "cell_type": "code",
   "execution_count": 22,
   "metadata": {},
   "outputs": [],
   "source": [
    "x = 10\n",
    "y = 50\n",
    "if (x**2 > 100 and y < 100) :\n",
    "    print(x,y) #None"
   ]
  },
  {
   "cell_type": "code",
   "execution_count": 24,
   "metadata": {},
   "outputs": [
    {
     "name": "stdout",
     "output_type": "stream",
     "text": [
      "15\n"
     ]
    }
   ],
   "source": [
    "def outerFun(a,b):\n",
    "    def innerFun(c,d):\n",
    "        return c+d\n",
    "    return innerFun(a,b)\n",
    "res = outerFun(5, 10) \n",
    "print(res)"
   ]
  },
  {
   "cell_type": "code",
   "execution_count": 29,
   "metadata": {},
   "outputs": [
    {
     "name": "stdout",
     "output_type": "stream",
     "text": [
      "['Idaz' 'anggara']\n"
     ]
    }
   ],
   "source": [
    "import numpy as np\n",
    "names = np.array([\n",
    "    [\"Idaz\", \"anggara\"],\n",
    "    [\"dear\", \"kurniawan\"]\n",
    "])\n",
    "# menampilkan baris pertama pd numpy array\n",
    "print(names[0])"
   ]
  },
  {
   "cell_type": "code",
   "execution_count": 31,
   "metadata": {},
   "outputs": [
    {
     "data": {
      "text/plain": [
       "'Kode'"
      ]
     },
     "execution_count": 31,
     "metadata": {},
     "output_type": "execute_result"
    }
   ],
   "source": [
    "studentss = {\"name\":\"Kode\", \"age\":\"13\"}\n",
    "studentss[\"name\"]"
   ]
  }
 ],
 "metadata": {
  "kernelspec": {
   "display_name": "Python 3",
   "language": "python",
   "name": "python3"
  },
  "language_info": {
   "codemirror_mode": {
    "name": "ipython",
    "version": 3
   },
   "file_extension": ".py",
   "mimetype": "text/x-python",
   "name": "python",
   "nbconvert_exporter": "python",
   "pygments_lexer": "ipython3",
   "version": "3.10.4"
  },
  "orig_nbformat": 4
 },
 "nbformat": 4,
 "nbformat_minor": 2
}
